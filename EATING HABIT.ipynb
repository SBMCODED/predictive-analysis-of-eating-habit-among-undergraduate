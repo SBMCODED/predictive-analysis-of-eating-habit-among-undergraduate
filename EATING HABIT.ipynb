{
 "cells": [
  {
   "cell_type": "code",
   "execution_count": null,
   "id": "488d571a",
   "metadata": {},
   "outputs": [],
   "source": [
    "\n",
    "import numpy as np # linear algebra\n",
    "import pandas as pd # data processing, CSV file I/O (e.g. pd.read_csv)\n",
    "\n",
    "import matplotlib.pyplot as plt\n",
    "import seaborn as sns\n",
    "\n",
    "\n",
    "import matplotlib.patches as mpatches\n",
    "\n",
    "\n"
   ]
  },
  {
   "cell_type": "markdown",
   "id": "93653e29",
   "metadata": {},
   "source": [
    "## loading the dataset"
   ]
  },
  {
   "cell_type": "code",
   "execution_count": 2,
   "id": "02b6f940",
   "metadata": {},
   "outputs": [],
   "source": [
    "data=pd.read_excel('eating habit.xlsx')"
   ]
  },
  {
   "cell_type": "code",
   "execution_count": 3,
   "id": "0949271c",
   "metadata": {},
   "outputs": [
    {
     "data": {
      "text/html": [
       "<div>\n",
       "<style scoped>\n",
       "    .dataframe tbody tr th:only-of-type {\n",
       "        vertical-align: middle;\n",
       "    }\n",
       "\n",
       "    .dataframe tbody tr th {\n",
       "        vertical-align: top;\n",
       "    }\n",
       "\n",
       "    .dataframe thead th {\n",
       "        text-align: right;\n",
       "    }\n",
       "</style>\n",
       "<table border=\"1\" class=\"dataframe\">\n",
       "  <thead>\n",
       "    <tr style=\"text-align: right;\">\n",
       "      <th></th>\n",
       "      <th>Class</th>\n",
       "      <th>Age</th>\n",
       "      <th>I avoid eating when am hungry</th>\n",
       "      <th>I cut my food into small pieces</th>\n",
       "      <th>I particularly avoid food with high carbonhydrate(bread,rice,potatoes etc)</th>\n",
       "      <th>I take longer time than others to eat my meals</th>\n",
       "      <th>I avoid food and drink with sugar content</th>\n",
       "      <th>I like my stomach empty</th>\n",
       "      <th>I fast to avoid eating</th>\n",
       "    </tr>\n",
       "  </thead>\n",
       "  <tbody>\n",
       "    <tr>\n",
       "      <th>0</th>\n",
       "      <td>1</td>\n",
       "      <td>14</td>\n",
       "      <td>Always</td>\n",
       "      <td>Always</td>\n",
       "      <td>Always</td>\n",
       "      <td>Always</td>\n",
       "      <td>Always</td>\n",
       "      <td>Always</td>\n",
       "      <td>Always</td>\n",
       "    </tr>\n",
       "    <tr>\n",
       "      <th>1</th>\n",
       "      <td>1</td>\n",
       "      <td>14</td>\n",
       "      <td>Always</td>\n",
       "      <td>Always</td>\n",
       "      <td>Always</td>\n",
       "      <td>Always</td>\n",
       "      <td>Always</td>\n",
       "      <td>Always</td>\n",
       "      <td>Always</td>\n",
       "    </tr>\n",
       "    <tr>\n",
       "      <th>2</th>\n",
       "      <td>1</td>\n",
       "      <td>14</td>\n",
       "      <td>Always</td>\n",
       "      <td>Always</td>\n",
       "      <td>Always</td>\n",
       "      <td>Always</td>\n",
       "      <td>Always</td>\n",
       "      <td>Always</td>\n",
       "      <td>Always</td>\n",
       "    </tr>\n",
       "    <tr>\n",
       "      <th>3</th>\n",
       "      <td>1</td>\n",
       "      <td>14</td>\n",
       "      <td>Always</td>\n",
       "      <td>Always</td>\n",
       "      <td>Always</td>\n",
       "      <td>Always</td>\n",
       "      <td>Always</td>\n",
       "      <td>Always</td>\n",
       "      <td>Always</td>\n",
       "    </tr>\n",
       "    <tr>\n",
       "      <th>4</th>\n",
       "      <td>1</td>\n",
       "      <td>14</td>\n",
       "      <td>Always</td>\n",
       "      <td>Always</td>\n",
       "      <td>Always</td>\n",
       "      <td>Always</td>\n",
       "      <td>Always</td>\n",
       "      <td>Often</td>\n",
       "      <td>Always</td>\n",
       "    </tr>\n",
       "  </tbody>\n",
       "</table>\n",
       "</div>"
      ],
      "text/plain": [
       "   Class  Age I avoid eating when am hungry I cut my food into small pieces  \\\n",
       "0      1   14                        Always                          Always   \n",
       "1      1   14                        Always                          Always   \n",
       "2      1   14                        Always                          Always   \n",
       "3      1   14                        Always                          Always   \n",
       "4      1   14                        Always                          Always   \n",
       "\n",
       "  I particularly avoid food with high carbonhydrate(bread,rice,potatoes etc)  \\\n",
       "0                                             Always                           \n",
       "1                                             Always                           \n",
       "2                                             Always                           \n",
       "3                                             Always                           \n",
       "4                                             Always                           \n",
       "\n",
       "  I take longer time than others to eat my meals  \\\n",
       "0                                        Always    \n",
       "1                                        Always    \n",
       "2                                        Always    \n",
       "3                                        Always    \n",
       "4                                        Always    \n",
       "\n",
       "  I avoid food and drink with sugar content I like my stomach empty   \\\n",
       "0                                    Always                  Always    \n",
       "1                                    Always                  Always    \n",
       "2                                    Always                  Always    \n",
       "3                                    Always                  Always    \n",
       "4                                    Always                   Often    \n",
       "\n",
       "  I fast to avoid eating  \n",
       "0                 Always  \n",
       "1                 Always  \n",
       "2                 Always  \n",
       "3                 Always  \n",
       "4                 Always  "
      ]
     },
     "execution_count": 3,
     "metadata": {},
     "output_type": "execute_result"
    }
   ],
   "source": [
    "data.head()"
   ]
  },
  {
   "cell_type": "markdown",
   "id": "fe82ad92",
   "metadata": {},
   "source": [
    "## checking for the null values "
   ]
  },
  {
   "cell_type": "code",
   "execution_count": 4,
   "id": "5862534f",
   "metadata": {},
   "outputs": [
    {
     "data": {
      "text/plain": [
       "Class                                                                         0\n",
       "Age                                                                           0\n",
       "I avoid eating when am hungry                                                 0\n",
       "I cut my food into small pieces                                               0\n",
       "I particularly avoid food with high carbonhydrate(bread,rice,potatoes etc)    0\n",
       "I take longer time than others to eat my meals                                0\n",
       "I avoid food and drink with sugar content                                     0\n",
       "I like my stomach empty                                                       0\n",
       "I fast to avoid eating                                                        0\n",
       "dtype: int64"
      ]
     },
     "execution_count": 4,
     "metadata": {},
     "output_type": "execute_result"
    }
   ],
   "source": [
    "data.isnull().sum()"
   ]
  },
  {
   "cell_type": "markdown",
   "id": "d42c6247",
   "metadata": {},
   "source": [
    "## describing the dataset"
   ]
  },
  {
   "cell_type": "code",
   "execution_count": 5,
   "id": "230cae1d",
   "metadata": {},
   "outputs": [
    {
     "data": {
      "text/html": [
       "<div>\n",
       "<style scoped>\n",
       "    .dataframe tbody tr th:only-of-type {\n",
       "        vertical-align: middle;\n",
       "    }\n",
       "\n",
       "    .dataframe tbody tr th {\n",
       "        vertical-align: top;\n",
       "    }\n",
       "\n",
       "    .dataframe thead th {\n",
       "        text-align: right;\n",
       "    }\n",
       "</style>\n",
       "<table border=\"1\" class=\"dataframe\">\n",
       "  <thead>\n",
       "    <tr style=\"text-align: right;\">\n",
       "      <th></th>\n",
       "      <th>Class</th>\n",
       "      <th>Age</th>\n",
       "    </tr>\n",
       "  </thead>\n",
       "  <tbody>\n",
       "    <tr>\n",
       "      <th>count</th>\n",
       "      <td>407.000000</td>\n",
       "      <td>407.000000</td>\n",
       "    </tr>\n",
       "    <tr>\n",
       "      <th>mean</th>\n",
       "      <td>0.459459</td>\n",
       "      <td>18.184275</td>\n",
       "    </tr>\n",
       "    <tr>\n",
       "      <th>std</th>\n",
       "      <td>0.498967</td>\n",
       "      <td>2.536036</td>\n",
       "    </tr>\n",
       "    <tr>\n",
       "      <th>min</th>\n",
       "      <td>0.000000</td>\n",
       "      <td>14.000000</td>\n",
       "    </tr>\n",
       "    <tr>\n",
       "      <th>25%</th>\n",
       "      <td>0.000000</td>\n",
       "      <td>16.000000</td>\n",
       "    </tr>\n",
       "    <tr>\n",
       "      <th>50%</th>\n",
       "      <td>0.000000</td>\n",
       "      <td>18.000000</td>\n",
       "    </tr>\n",
       "    <tr>\n",
       "      <th>75%</th>\n",
       "      <td>1.000000</td>\n",
       "      <td>20.000000</td>\n",
       "    </tr>\n",
       "    <tr>\n",
       "      <th>max</th>\n",
       "      <td>1.000000</td>\n",
       "      <td>23.000000</td>\n",
       "    </tr>\n",
       "  </tbody>\n",
       "</table>\n",
       "</div>"
      ],
      "text/plain": [
       "            Class         Age\n",
       "count  407.000000  407.000000\n",
       "mean     0.459459   18.184275\n",
       "std      0.498967    2.536036\n",
       "min      0.000000   14.000000\n",
       "25%      0.000000   16.000000\n",
       "50%      0.000000   18.000000\n",
       "75%      1.000000   20.000000\n",
       "max      1.000000   23.000000"
      ]
     },
     "execution_count": 5,
     "metadata": {},
     "output_type": "execute_result"
    }
   ],
   "source": [
    "data.describe()"
   ]
  },
  {
   "cell_type": "markdown",
   "id": "65b0a840",
   "metadata": {},
   "source": [
    "## information about the dataset"
   ]
  },
  {
   "cell_type": "code",
   "execution_count": 6,
   "id": "3680a1d1",
   "metadata": {},
   "outputs": [
    {
     "name": "stdout",
     "output_type": "stream",
     "text": [
      "<class 'pandas.core.frame.DataFrame'>\n",
      "RangeIndex: 407 entries, 0 to 406\n",
      "Data columns (total 9 columns):\n",
      " #   Column                                                                      Non-Null Count  Dtype \n",
      "---  ------                                                                      --------------  ----- \n",
      " 0   Class                                                                       407 non-null    int64 \n",
      " 1   Age                                                                         407 non-null    int64 \n",
      " 2   I avoid eating when am hungry                                               407 non-null    object\n",
      " 3   I cut my food into small pieces                                             407 non-null    object\n",
      " 4   I particularly avoid food with high carbonhydrate(bread,rice,potatoes etc)  407 non-null    object\n",
      " 5   I take longer time than others to eat my meals                              407 non-null    object\n",
      " 6   I avoid food and drink with sugar content                                   407 non-null    object\n",
      " 7   I like my stomach empty                                                     407 non-null    object\n",
      " 8   I fast to avoid eating                                                      407 non-null    object\n",
      "dtypes: int64(2), object(7)\n",
      "memory usage: 28.7+ KB\n"
     ]
    }
   ],
   "source": [
    "## information about the dataset\n",
    "\n",
    "data.info()"
   ]
  },
  {
   "cell_type": "code",
   "execution_count": 7,
   "id": "28e251ca",
   "metadata": {},
   "outputs": [
    {
     "data": {
      "text/plain": [
       "(407, 9)"
      ]
     },
     "execution_count": 7,
     "metadata": {},
     "output_type": "execute_result"
    }
   ],
   "source": [
    "## this shows us how many rows and columns is the data\n",
    "\n",
    "data.shape"
   ]
  },
  {
   "cell_type": "markdown",
   "id": "ac34bd47",
   "metadata": {},
   "source": [
    "## columns of the dataset "
   ]
  },
  {
   "cell_type": "code",
   "execution_count": 8,
   "id": "0ab003f4",
   "metadata": {},
   "outputs": [
    {
     "data": {
      "text/plain": [
       "Index(['Class', 'Age', 'I avoid eating when am hungry',\n",
       "       'I cut my food into small pieces',\n",
       "       'I particularly avoid food with high carbonhydrate(bread,rice,potatoes etc)',\n",
       "       'I take longer time than others to eat my meals',\n",
       "       'I avoid food and drink with sugar content', 'I like my stomach empty ',\n",
       "       'I fast to avoid eating'],\n",
       "      dtype='object')"
      ]
     },
     "execution_count": 8,
     "metadata": {},
     "output_type": "execute_result"
    }
   ],
   "source": [
    "data.columns"
   ]
  },
  {
   "cell_type": "markdown",
   "id": "e9ebd8f3",
   "metadata": {},
   "source": [
    "## classification of the class into gender base (male[1] and female[0])"
   ]
  },
  {
   "cell_type": "code",
   "execution_count": 9,
   "id": "b377d04f",
   "metadata": {},
   "outputs": [],
   "source": [
    "\n",
    "## for male \n",
    "male=len(data[data['Class']==1])"
   ]
  },
  {
   "cell_type": "code",
   "execution_count": 10,
   "id": "232e7b32",
   "metadata": {},
   "outputs": [
    {
     "name": "stdout",
     "output_type": "stream",
     "text": [
      "number of male 187\n"
     ]
    }
   ],
   "source": [
    "print('number of male',male)"
   ]
  },
  {
   "cell_type": "code",
   "execution_count": 11,
   "id": "de50c641",
   "metadata": {},
   "outputs": [],
   "source": [
    "## for female\n",
    "\n",
    "female=len(data[data['Class']==0])"
   ]
  },
  {
   "cell_type": "code",
   "execution_count": 12,
   "id": "63a8aaf4",
   "metadata": {},
   "outputs": [
    {
     "data": {
      "text/plain": [
       "220"
      ]
     },
     "execution_count": 12,
     "metadata": {},
     "output_type": "execute_result"
    }
   ],
   "source": [
    "female"
   ]
  },
  {
   "cell_type": "markdown",
   "id": "fe1f0a0a",
   "metadata": {},
   "source": [
    "## uniqueness of the data "
   ]
  },
  {
   "cell_type": "code",
   "execution_count": 13,
   "id": "623f79da",
   "metadata": {},
   "outputs": [
    {
     "data": {
      "text/plain": [
       "array([1, 0], dtype=int64)"
      ]
     },
     "execution_count": 13,
     "metadata": {},
     "output_type": "execute_result"
    }
   ],
   "source": [
    "data.Class.unique()"
   ]
  },
  {
   "cell_type": "code",
   "execution_count": 14,
   "id": "73ac15a1",
   "metadata": {},
   "outputs": [
    {
     "data": {
      "text/plain": [
       "array([14, 15, 16, 17, 18, 19, 20, 21, 22, 23], dtype=int64)"
      ]
     },
     "execution_count": 14,
     "metadata": {},
     "output_type": "execute_result"
    }
   ],
   "source": [
    "data.Age.unique()"
   ]
  },
  {
   "cell_type": "markdown",
   "id": "c9e18689",
   "metadata": {},
   "source": [
    "## seperating numerical datatype from object"
   ]
  },
  {
   "cell_type": "code",
   "execution_count": 15,
   "id": "c4d1fe4d",
   "metadata": {},
   "outputs": [
    {
     "data": {
      "text/html": [
       "<div>\n",
       "<style scoped>\n",
       "    .dataframe tbody tr th:only-of-type {\n",
       "        vertical-align: middle;\n",
       "    }\n",
       "\n",
       "    .dataframe tbody tr th {\n",
       "        vertical-align: top;\n",
       "    }\n",
       "\n",
       "    .dataframe thead th {\n",
       "        text-align: right;\n",
       "    }\n",
       "</style>\n",
       "<table border=\"1\" class=\"dataframe\">\n",
       "  <thead>\n",
       "    <tr style=\"text-align: right;\">\n",
       "      <th></th>\n",
       "      <th>Class</th>\n",
       "      <th>Age</th>\n",
       "    </tr>\n",
       "  </thead>\n",
       "  <tbody>\n",
       "    <tr>\n",
       "      <th>0</th>\n",
       "      <td>1</td>\n",
       "      <td>14</td>\n",
       "    </tr>\n",
       "    <tr>\n",
       "      <th>1</th>\n",
       "      <td>1</td>\n",
       "      <td>14</td>\n",
       "    </tr>\n",
       "    <tr>\n",
       "      <th>2</th>\n",
       "      <td>1</td>\n",
       "      <td>14</td>\n",
       "    </tr>\n",
       "    <tr>\n",
       "      <th>3</th>\n",
       "      <td>1</td>\n",
       "      <td>14</td>\n",
       "    </tr>\n",
       "    <tr>\n",
       "      <th>4</th>\n",
       "      <td>1</td>\n",
       "      <td>14</td>\n",
       "    </tr>\n",
       "    <tr>\n",
       "      <th>...</th>\n",
       "      <td>...</td>\n",
       "      <td>...</td>\n",
       "    </tr>\n",
       "    <tr>\n",
       "      <th>402</th>\n",
       "      <td>0</td>\n",
       "      <td>23</td>\n",
       "    </tr>\n",
       "    <tr>\n",
       "      <th>403</th>\n",
       "      <td>0</td>\n",
       "      <td>23</td>\n",
       "    </tr>\n",
       "    <tr>\n",
       "      <th>404</th>\n",
       "      <td>0</td>\n",
       "      <td>23</td>\n",
       "    </tr>\n",
       "    <tr>\n",
       "      <th>405</th>\n",
       "      <td>0</td>\n",
       "      <td>23</td>\n",
       "    </tr>\n",
       "    <tr>\n",
       "      <th>406</th>\n",
       "      <td>0</td>\n",
       "      <td>23</td>\n",
       "    </tr>\n",
       "  </tbody>\n",
       "</table>\n",
       "<p>407 rows × 2 columns</p>\n",
       "</div>"
      ],
      "text/plain": [
       "     Class  Age\n",
       "0        1   14\n",
       "1        1   14\n",
       "2        1   14\n",
       "3        1   14\n",
       "4        1   14\n",
       "..     ...  ...\n",
       "402      0   23\n",
       "403      0   23\n",
       "404      0   23\n",
       "405      0   23\n",
       "406      0   23\n",
       "\n",
       "[407 rows x 2 columns]"
      ]
     },
     "execution_count": 15,
     "metadata": {},
     "output_type": "execute_result"
    }
   ],
   "source": [
    "numeric=data.select_dtypes(np.number)\n",
    "numeric"
   ]
  },
  {
   "cell_type": "code",
   "execution_count": 16,
   "id": "fe08d609",
   "metadata": {},
   "outputs": [
    {
     "data": {
      "text/html": [
       "<div>\n",
       "<style scoped>\n",
       "    .dataframe tbody tr th:only-of-type {\n",
       "        vertical-align: middle;\n",
       "    }\n",
       "\n",
       "    .dataframe tbody tr th {\n",
       "        vertical-align: top;\n",
       "    }\n",
       "\n",
       "    .dataframe thead th {\n",
       "        text-align: right;\n",
       "    }\n",
       "</style>\n",
       "<table border=\"1\" class=\"dataframe\">\n",
       "  <thead>\n",
       "    <tr style=\"text-align: right;\">\n",
       "      <th></th>\n",
       "      <th>I avoid eating when am hungry</th>\n",
       "      <th>I cut my food into small pieces</th>\n",
       "      <th>I particularly avoid food with high carbonhydrate(bread,rice,potatoes etc)</th>\n",
       "      <th>I take longer time than others to eat my meals</th>\n",
       "      <th>I avoid food and drink with sugar content</th>\n",
       "      <th>I like my stomach empty</th>\n",
       "      <th>I fast to avoid eating</th>\n",
       "    </tr>\n",
       "  </thead>\n",
       "  <tbody>\n",
       "    <tr>\n",
       "      <th>0</th>\n",
       "      <td>Always</td>\n",
       "      <td>Always</td>\n",
       "      <td>Always</td>\n",
       "      <td>Always</td>\n",
       "      <td>Always</td>\n",
       "      <td>Always</td>\n",
       "      <td>Always</td>\n",
       "    </tr>\n",
       "    <tr>\n",
       "      <th>1</th>\n",
       "      <td>Always</td>\n",
       "      <td>Always</td>\n",
       "      <td>Always</td>\n",
       "      <td>Always</td>\n",
       "      <td>Always</td>\n",
       "      <td>Always</td>\n",
       "      <td>Always</td>\n",
       "    </tr>\n",
       "    <tr>\n",
       "      <th>2</th>\n",
       "      <td>Always</td>\n",
       "      <td>Always</td>\n",
       "      <td>Always</td>\n",
       "      <td>Always</td>\n",
       "      <td>Always</td>\n",
       "      <td>Always</td>\n",
       "      <td>Always</td>\n",
       "    </tr>\n",
       "    <tr>\n",
       "      <th>3</th>\n",
       "      <td>Always</td>\n",
       "      <td>Always</td>\n",
       "      <td>Always</td>\n",
       "      <td>Always</td>\n",
       "      <td>Always</td>\n",
       "      <td>Always</td>\n",
       "      <td>Always</td>\n",
       "    </tr>\n",
       "    <tr>\n",
       "      <th>4</th>\n",
       "      <td>Always</td>\n",
       "      <td>Always</td>\n",
       "      <td>Always</td>\n",
       "      <td>Always</td>\n",
       "      <td>Always</td>\n",
       "      <td>Often</td>\n",
       "      <td>Always</td>\n",
       "    </tr>\n",
       "    <tr>\n",
       "      <th>...</th>\n",
       "      <td>...</td>\n",
       "      <td>...</td>\n",
       "      <td>...</td>\n",
       "      <td>...</td>\n",
       "      <td>...</td>\n",
       "      <td>...</td>\n",
       "      <td>...</td>\n",
       "    </tr>\n",
       "    <tr>\n",
       "      <th>402</th>\n",
       "      <td>Never</td>\n",
       "      <td>Never</td>\n",
       "      <td>Never</td>\n",
       "      <td>Never</td>\n",
       "      <td>Never</td>\n",
       "      <td>Never</td>\n",
       "      <td>Never</td>\n",
       "    </tr>\n",
       "    <tr>\n",
       "      <th>403</th>\n",
       "      <td>Never</td>\n",
       "      <td>Never</td>\n",
       "      <td>Never</td>\n",
       "      <td>Never</td>\n",
       "      <td>Never</td>\n",
       "      <td>Never</td>\n",
       "      <td>Never</td>\n",
       "    </tr>\n",
       "    <tr>\n",
       "      <th>404</th>\n",
       "      <td>Never</td>\n",
       "      <td>Never</td>\n",
       "      <td>Never</td>\n",
       "      <td>Never</td>\n",
       "      <td>Never</td>\n",
       "      <td>Never</td>\n",
       "      <td>Never</td>\n",
       "    </tr>\n",
       "    <tr>\n",
       "      <th>405</th>\n",
       "      <td>Never</td>\n",
       "      <td>Never</td>\n",
       "      <td>Never</td>\n",
       "      <td>Never</td>\n",
       "      <td>Never</td>\n",
       "      <td>Never</td>\n",
       "      <td>Never</td>\n",
       "    </tr>\n",
       "    <tr>\n",
       "      <th>406</th>\n",
       "      <td>Never</td>\n",
       "      <td>Never</td>\n",
       "      <td>Never</td>\n",
       "      <td>Never</td>\n",
       "      <td>Never</td>\n",
       "      <td>Never</td>\n",
       "      <td>Never</td>\n",
       "    </tr>\n",
       "  </tbody>\n",
       "</table>\n",
       "<p>407 rows × 7 columns</p>\n",
       "</div>"
      ],
      "text/plain": [
       "    I avoid eating when am hungry I cut my food into small pieces  \\\n",
       "0                          Always                          Always   \n",
       "1                          Always                          Always   \n",
       "2                          Always                          Always   \n",
       "3                          Always                          Always   \n",
       "4                          Always                          Always   \n",
       "..                            ...                             ...   \n",
       "402                        Never                            Never   \n",
       "403                        Never                            Never   \n",
       "404                        Never                            Never   \n",
       "405                        Never                            Never   \n",
       "406                        Never                            Never   \n",
       "\n",
       "    I particularly avoid food with high carbonhydrate(bread,rice,potatoes etc)  \\\n",
       "0                                               Always                           \n",
       "1                                               Always                           \n",
       "2                                               Always                           \n",
       "3                                               Always                           \n",
       "4                                               Always                           \n",
       "..                                                 ...                           \n",
       "402                                             Never                            \n",
       "403                                             Never                            \n",
       "404                                             Never                            \n",
       "405                                             Never                            \n",
       "406                                             Never                            \n",
       "\n",
       "    I take longer time than others to eat my meals  \\\n",
       "0                                          Always    \n",
       "1                                          Always    \n",
       "2                                          Always    \n",
       "3                                          Always    \n",
       "4                                          Always    \n",
       "..                                             ...   \n",
       "402                                          Never   \n",
       "403                                          Never   \n",
       "404                                          Never   \n",
       "405                                          Never   \n",
       "406                                          Never   \n",
       "\n",
       "    I avoid food and drink with sugar content I like my stomach empty   \\\n",
       "0                                      Always                  Always    \n",
       "1                                      Always                  Always    \n",
       "2                                      Always                  Always    \n",
       "3                                      Always                  Always    \n",
       "4                                      Always                   Often    \n",
       "..                                        ...                      ...   \n",
       "402                                     Never                   Never    \n",
       "403                                     Never                   Never    \n",
       "404                                     Never                   Never    \n",
       "405                                     Never                   Never    \n",
       "406                                     Never                   Never    \n",
       "\n",
       "    I fast to avoid eating  \n",
       "0                   Always  \n",
       "1                   Always  \n",
       "2                   Always  \n",
       "3                   Always  \n",
       "4                   Always  \n",
       "..                     ...  \n",
       "402                  Never  \n",
       "403                  Never  \n",
       "404                  Never  \n",
       "405                  Never  \n",
       "406                  Never  \n",
       "\n",
       "[407 rows x 7 columns]"
      ]
     },
     "execution_count": 16,
     "metadata": {},
     "output_type": "execute_result"
    }
   ],
   "source": [
    "Objects=data.select_dtypes('object')\n",
    "Objects"
   ]
  },
  {
   "cell_type": "markdown",
   "id": "197d4433",
   "metadata": {},
   "source": [
    "## EDA"
   ]
  },
  {
   "cell_type": "code",
   "execution_count": 17,
   "id": "4013f39d",
   "metadata": {},
   "outputs": [
    {
     "name": "stdout",
     "output_type": "stream",
     "text": [
      "Class\n",
      "0    220\n",
      "1    187\n",
      "Name: Age, dtype: int64\n"
     ]
    },
    {
     "data": {
      "image/png": "[encoded data removed]",
      "text/plain": [
       "<Figure size 432x288 with 1 Axes>"
      ]
     },
     "metadata": {
      "needs_background": "light"
     },
     "output_type": "display_data"
    }
   ],
   "source": [
    "## visiualizing based on CLass and age\n",
    "\n",
    "print(data.groupby(['Class'])['Age'].count())\n",
    "data.groupby(['Class'])['Age'].count().plot(kind=\"bar\")\n",
    "plt.show()"
   ]
  },
  {
   "cell_type": "code",
   "execution_count": 18,
   "id": "6ad244d5",
   "metadata": {},
   "outputs": [
    {
     "data": {
      "text/plain": [
       "<AxesSubplot:>"
      ]
     },
     "execution_count": 18,
     "metadata": {},
     "output_type": "execute_result"
    },
    {
     "data": {
      "image/png": "[encoded data removed]",
      "text/plain": [
       "<Figure size 432x288 with 1 Axes>"
      ]
     },
     "metadata": {},
     "output_type": "display_data"
    }
   ],
   "source": [
    "yinka=data.copy()\n",
    "yinka['']=np.where(yinka['Class']==1,'male','female')\n",
    "yinka[''].value_counts().plot(kind='pie')"
   ]
  },
  {
   "cell_type": "markdown",
   "id": "9e8a4fd7",
   "metadata": {},
   "source": [
    "## finding the mean of male "
   ]
  },
  {
   "cell_type": "code",
   "execution_count": 19,
   "id": "27d2a840",
   "metadata": {},
   "outputs": [
    {
     "name": "stdout",
     "output_type": "stream",
     "text": [
      "average male student:Class     1.000000\n",
      "Age      17.818182\n",
      "dtype: float64\n"
     ]
    },
    {
     "name": "stderr",
     "output_type": "stream",
     "text": [
      "C:\\Users\\SBMCODED\\AppData\\Local\\Temp\\ipykernel_2208\\2212878151.py:1: FutureWarning: Dropping of nuisance columns in DataFrame reductions (with 'numeric_only=None') is deprecated; in a future version this will raise TypeError.  Select only valid columns before calling the reduction.\n",
      "  print('average male student:'+str(data[data['Class']==1].mean()))\n"
     ]
    }
   ],
   "source": [
    "print('average male student:'+str(data[data['Class']==1].mean()))\n"
   ]
  },
  {
   "cell_type": "markdown",
   "id": "800abae4",
   "metadata": {},
   "source": [
    "## finding the mean of female "
   ]
  },
  {
   "cell_type": "code",
   "execution_count": 20,
   "id": "893c9ed2",
   "metadata": {},
   "outputs": [
    {
     "name": "stdout",
     "output_type": "stream",
     "text": [
      "average female transaction:Class     0.000000\n",
      "Age      18.495455\n",
      "dtype: float64\n"
     ]
    },
    {
     "name": "stderr",
     "output_type": "stream",
     "text": [
      "C:\\Users\\SBMCODED\\AppData\\Local\\Temp\\ipykernel_2208\\4207596138.py:1: FutureWarning: Dropping of nuisance columns in DataFrame reductions (with 'numeric_only=None') is deprecated; in a future version this will raise TypeError.  Select only valid columns before calling the reduction.\n",
      "  print('average female transaction:'+str(data[data['Class']==0].mean()))\n"
     ]
    }
   ],
   "source": [
    "print('average female transaction:'+str(data[data['Class']==0].mean()))"
   ]
  },
  {
   "cell_type": "code",
   "execution_count": 21,
   "id": "137f055f",
   "metadata": {},
   "outputs": [
    {
     "data": {
      "image/png": "[encoded data removed]",
      "text/plain": [
       "<Figure size 1440x1440 with 2 Axes>"
      ]
     },
     "metadata": {
      "needs_background": "light"
     },
     "output_type": "display_data"
    }
   ],
   "source": [
    "## histrogram \n",
    "data.hist(figsize=(20,20),color='blue')\n",
    "plt.show()"
   ]
  },
  {
   "cell_type": "code",
   "execution_count": 22,
   "id": "0af22e8b",
   "metadata": {},
   "outputs": [
    {
     "name": "stdout",
     "output_type": "stream",
     "text": [
      "Age\n",
      "14    37\n",
      "15    40\n",
      "16    33\n",
      "17    56\n",
      "18    56\n",
      "19    58\n",
      "20    38\n",
      "21    38\n",
      "22    38\n",
      "23    13\n",
      "Name: Age, dtype: int64\n"
     ]
    },
    {
     "data": {
      "image/png": "[encoded data removed]",
      "text/plain": [
       "<Figure size 432x288 with 1 Axes>"
      ]
     },
     "metadata": {},
     "output_type": "display_data"
    }
   ],
   "source": [
    "\n",
    "print(data.groupby(['Age'])['Age'].count())\n",
    "data.groupby(['Age'])['Age'].count().plot(kind=\"pie\")\n",
    "plt.show()"
   ]
  },
  {
   "cell_type": "code",
   "execution_count": 23,
   "id": "5f9559db",
   "metadata": {},
   "outputs": [
    {
     "name": "stdout",
     "output_type": "stream",
     "text": [
      "Age\n",
      "14    37\n",
      "15    40\n",
      "16    33\n",
      "17    56\n",
      "18    56\n",
      "19    58\n",
      "20    38\n",
      "21    38\n",
      "22    38\n",
      "23    13\n",
      "Name: Age, dtype: int64\n"
     ]
    },
    {
     "data": {
      "image/png": "[encoded data removed]",
      "text/plain": [
       "<Figure size 432x288 with 1 Axes>"
      ]
     },
     "metadata": {
      "needs_background": "light"
     },
     "output_type": "display_data"
    }
   ],
   "source": [
    "print(data.groupby(['Age'])['Age'].count())\n",
    "data.groupby(['Age'])['Age'].count().plot(kind=\"bar\")\n",
    "plt.show()"
   ]
  },
  {
   "cell_type": "markdown",
   "id": "29b3f483",
   "metadata": {},
   "source": [
    "## from visualizing i fast to avoid eating "
   ]
  },
  {
   "cell_type": "code",
   "execution_count": 24,
   "id": "b3d4864d",
   "metadata": {},
   "outputs": [
    {
     "name": "stdout",
     "output_type": "stream",
     "text": [
      "I fast to avoid eating\n",
      "Always         20\n",
      "Always         20\n",
      "Never          48\n",
      "Never          16\n",
      "Often          24\n",
      "Rarely        107\n",
      "Sometimes     156\n",
      "Usually        16\n",
      "Name: I fast to avoid eating, dtype: int64\n"
     ]
    },
    {
     "data": {
      "image/png": "[encoded data removed]",
      "text/plain": [
       "<Figure size 432x288 with 1 Axes>"
      ]
     },
     "metadata": {
      "needs_background": "light"
     },
     "output_type": "display_data"
    }
   ],
   "source": [
    "print(data.groupby(['I fast to avoid eating'])['I fast to avoid eating'].count())\n",
    "data.groupby(['I fast to avoid eating'])['I fast to avoid eating'].count().plot(kind=\"bar\")\n",
    "plt.show()"
   ]
  },
  {
   "cell_type": "markdown",
   "id": "2e7332eb",
   "metadata": {},
   "source": [
    "## from  Visualizing I avoid food and drink with sugar content"
   ]
  },
  {
   "cell_type": "code",
   "execution_count": 25,
   "id": "2b11270a",
   "metadata": {},
   "outputs": [
    {
     "name": "stdout",
     "output_type": "stream",
     "text": [
      "I avoid food and drink with sugar content\n",
      "Always        56\n",
      "Never         50\n",
      "Often         40\n",
      "Often         41\n",
      "Rarely       100\n",
      "Sometimes     56\n",
      "Usually       64\n",
      "Name: I avoid food and drink with sugar content, dtype: int64\n"
     ]
    },
    {
     "data": {
      "image/png": "[encoded data removed]",
      "text/plain": [
       "<Figure size 432x288 with 1 Axes>"
      ]
     },
     "metadata": {
      "needs_background": "light"
     },
     "output_type": "display_data"
    }
   ],
   "source": [
    "print(data.groupby(['I avoid food and drink with sugar content'])['I avoid food and drink with sugar content'].count())\n",
    "data.groupby(['I avoid food and drink with sugar content'])['I avoid food and drink with sugar content'].count().plot(kind=\"bar\")\n",
    "plt.show()"
   ]
  },
  {
   "cell_type": "markdown",
   "id": "dc49d0f0",
   "metadata": {},
   "source": [
    "## Base on the graph for i avoid food and drink with sugar content (it shows that both male and female rarely avoid food and drink with sugar content)"
   ]
  },
  {
   "cell_type": "markdown",
   "id": "f41523ef",
   "metadata": {},
   "source": [
    "## Visualizing I take longer time than others to eat my meals"
   ]
  },
  {
   "cell_type": "code",
   "execution_count": 26,
   "id": "4914172e",
   "metadata": {},
   "outputs": [
    {
     "name": "stdout",
     "output_type": "stream",
     "text": [
      "I take longer time than others to eat my meals\n",
      "Always         33\n",
      "Never         140\n",
      "Often          24\n",
      "Rarely         73\n",
      "Sometimes     129\n",
      "Usually         8\n",
      "Name: I take longer time than others to eat my meals, dtype: int64\n"
     ]
    },
    {
     "data": {
      "image/png": "[encoded data removed]",
      "text/plain": [
       "<Figure size 432x288 with 1 Axes>"
      ]
     },
     "metadata": {
      "needs_background": "light"
     },
     "output_type": "display_data"
    }
   ],
   "source": [
    "print(data.groupby(['I take longer time than others to eat my meals'])['I take longer time than others to eat my meals'].count())\n",
    "data.groupby(['I take longer time than others to eat my meals'])['I take longer time than others to eat my meals'].count().plot(kind=\"bar\")\n",
    "plt.show()"
   ]
  },
  {
   "cell_type": "markdown",
   "id": "021af480",
   "metadata": {},
   "source": [
    "## base on the graph we can see that both male and female \"NEVER\" take longer time than others to eat their meals)"
   ]
  },
  {
   "cell_type": "markdown",
   "id": "bcf25341",
   "metadata": {},
   "source": [
    "## visualizing I like my stomach empty "
   ]
  },
  {
   "cell_type": "code",
   "execution_count": 27,
   "id": "61f9260d",
   "metadata": {},
   "outputs": [
    {
     "name": "stdout",
     "output_type": "stream",
     "text": [
      "I like my stomach empty \n",
      "Always          8\n",
      "Never          66\n",
      "Never          96\n",
      "Often          17\n",
      "Often          16\n",
      "Rarely        121\n",
      "Sometimes      83\n",
      "Name: I like my stomach empty , dtype: int64\n"
     ]
    },
    {
     "data": {
      "image/png": "[encoded data removed]",
      "text/plain": [
       "<Figure size 432x288 with 1 Axes>"
      ]
     },
     "metadata": {
      "needs_background": "light"
     },
     "output_type": "display_data"
    }
   ],
   "source": [
    "print(data.groupby(['I like my stomach empty '])['I like my stomach empty '].count())\n",
    "data.groupby(['I like my stomach empty '])['I like my stomach empty '].count().plot(kind=\"bar\")\n",
    "plt.show()"
   ]
  },
  {
   "cell_type": "markdown",
   "id": "d2e2a9cb",
   "metadata": {},
   "source": [
    "## base on observation from the graph we see that both male and female \"RARELY\" like their stomach empty"
   ]
  },
  {
   "cell_type": "markdown",
   "id": "7156fc0c",
   "metadata": {},
   "source": [
    "## visualizing I avoid eating when am hungry"
   ]
  },
  {
   "cell_type": "code",
   "execution_count": 28,
   "id": "6ed57501",
   "metadata": {},
   "outputs": [
    {
     "name": "stdout",
     "output_type": "stream",
     "text": [
      "I avoid eating when am hungry\n",
      "Always         56\n",
      "Never          50\n",
      "Often          41\n",
      "Rarely        145\n",
      "Rarely          2\n",
      "Sometimes      73\n",
      "Usually        40\n",
      "Name: I avoid eating when am hungry, dtype: int64\n"
     ]
    },
    {
     "data": {
      "image/png": "[encoded data removed]",
      "text/plain": [
       "<Figure size 432x288 with 1 Axes>"
      ]
     },
     "metadata": {
      "needs_background": "light"
     },
     "output_type": "display_data"
    }
   ],
   "source": [
    "print(data.groupby(['I avoid eating when am hungry'])['I avoid eating when am hungry'].count())\n",
    "data.groupby(['I avoid eating when am hungry'])['I avoid eating when am hungry'].count().plot(kind=\"bar\")\n",
    "plt.show()"
   ]
  },
  {
   "cell_type": "markdown",
   "id": "a173bde5",
   "metadata": {},
   "source": [
    "## we can see that both male and female \"RARELY\" avoid eating when they are hungry"
   ]
  },
  {
   "cell_type": "markdown",
   "id": "ba50638e",
   "metadata": {},
   "source": [
    "## visualizing I cut my food into small pieces"
   ]
  },
  {
   "cell_type": "code",
   "execution_count": 29,
   "id": "63b0262c",
   "metadata": {},
   "outputs": [
    {
     "name": "stdout",
     "output_type": "stream",
     "text": [
      "I cut my food into small pieces\n",
      "Always         7\n",
      "Always        10\n",
      "Never        113\n",
      "Often         34\n",
      "Rarely       137\n",
      "Sometimes     74\n",
      "Usually       32\n",
      "Name: I cut my food into small pieces, dtype: int64\n"
     ]
    },
    {
     "data": {
      "image/png": "[encoded data removed]",
      "text/plain": [
       "<Figure size 432x288 with 1 Axes>"
      ]
     },
     "metadata": {
      "needs_background": "light"
     },
     "output_type": "display_data"
    }
   ],
   "source": [
    "print(data.groupby(['I cut my food into small pieces'])['I cut my food into small pieces'].count())\n",
    "data.groupby(['I cut my food into small pieces'])['I cut my food into small pieces'].count().plot(kind=\"bar\")\n",
    "plt.show()"
   ]
  },
  {
   "cell_type": "markdown",
   "id": "751761b8",
   "metadata": {},
   "source": [
    "## from the graph both male and female RARELY cut their food into smaller pieces "
   ]
  },
  {
   "cell_type": "markdown",
   "id": "4c37d902",
   "metadata": {},
   "source": [
    "## visualizing 'I particularly avoid food with high carbonhydrate(bread,rice,potatoes etc"
   ]
  },
  {
   "cell_type": "code",
   "execution_count": 30,
   "id": "54ca0ccb",
   "metadata": {},
   "outputs": [
    {
     "name": "stdout",
     "output_type": "stream",
     "text": [
      "I particularly avoid food with high carbonhydrate(bread,rice,potatoes etc)\n",
      "Always        147\n",
      "Never          81\n",
      "Often          16\n",
      "Rarely         73\n",
      "Sometimes      32\n",
      "Usually        58\n",
      "Name: I particularly avoid food with high carbonhydrate(bread,rice,potatoes etc), dtype: int64\n"
     ]
    },
    {
     "data": {
      "image/png": "[encoded data removed]",
      "text/plain": [
       "<Figure size 432x288 with 1 Axes>"
      ]
     },
     "metadata": {
      "needs_background": "light"
     },
     "output_type": "display_data"
    }
   ],
   "source": [
    "print(data.groupby(['I particularly avoid food with high carbonhydrate(bread,rice,potatoes etc)'])['I particularly avoid food with high carbonhydrate(bread,rice,potatoes etc)'].count())\n",
    "data.groupby(['I particularly avoid food with high carbonhydrate(bread,rice,potatoes etc)'])['I particularly avoid food with high carbonhydrate(bread,rice,potatoes etc)'].count().plot(kind=\"bar\")\n",
    "plt.show()"
   ]
  },
  {
   "cell_type": "markdown",
   "id": "4c24fe22",
   "metadata": {},
   "source": [
    "## this graphs shows that both male and female ALWAYS void food with high carbohydrates"
   ]
  },
  {
   "cell_type": "markdown",
   "id": "73484208",
   "metadata": {},
   "source": [
    "## modelling "
   ]
  },
  {
   "cell_type": "code",
   "execution_count": 31,
   "id": "d62a6442",
   "metadata": {},
   "outputs": [],
   "source": [
    "\n",
    "## the object datatypes will be converted to numerical category in order to pass it to our algorithm\n",
    "from sklearn import preprocessing as pp"
   ]
  },
  {
   "cell_type": "code",
   "execution_count": 32,
   "id": "458f2853",
   "metadata": {},
   "outputs": [
    {
     "data": {
      "text/plain": [
       "LabelEncoder()"
      ]
     },
     "execution_count": 32,
     "metadata": {},
     "output_type": "execute_result"
    }
   ],
   "source": [
    "\n",
    "## instanciation\n",
    "label_encoder=pp.LabelEncoder()\n",
    "label_encoder"
   ]
  },
  {
   "cell_type": "code",
   "execution_count": 33,
   "id": "7035f5f3",
   "metadata": {},
   "outputs": [
    {
     "data": {
      "text/plain": [
       "['I avoid eating when am hungry',\n",
       " 'I cut my food into small pieces',\n",
       " 'I particularly avoid food with high carbonhydrate(bread,rice,potatoes etc)',\n",
       " 'I take longer time than others to eat my meals',\n",
       " 'I avoid food and drink with sugar content',\n",
       " 'I like my stomach empty ',\n",
       " 'I fast to avoid eating']"
      ]
     },
     "execution_count": 33,
     "metadata": {},
     "output_type": "execute_result"
    }
   ],
   "source": [
    "## get the columns of the object datatypes as a list because i want to use for the loop iteration \n",
    "obj=Objects.columns.to_list()\n",
    "obj"
   ]
  },
  {
   "cell_type": "code",
   "execution_count": 34,
   "id": "9e364b77",
   "metadata": {},
   "outputs": [],
   "source": [
    "for column in obj:\n",
    "    Objects[column]=label_encoder.fit_transform(Objects[column])"
   ]
  },
  {
   "cell_type": "code",
   "execution_count": 35,
   "id": "05b33df3",
   "metadata": {},
   "outputs": [
    {
     "data": {
      "text/html": [
       "<div>\n",
       "<style scoped>\n",
       "    .dataframe tbody tr th:only-of-type {\n",
       "        vertical-align: middle;\n",
       "    }\n",
       "\n",
       "    .dataframe tbody tr th {\n",
       "        vertical-align: top;\n",
       "    }\n",
       "\n",
       "    .dataframe thead th {\n",
       "        text-align: right;\n",
       "    }\n",
       "</style>\n",
       "<table border=\"1\" class=\"dataframe\">\n",
       "  <thead>\n",
       "    <tr style=\"text-align: right;\">\n",
       "      <th></th>\n",
       "      <th>I avoid eating when am hungry</th>\n",
       "      <th>I cut my food into small pieces</th>\n",
       "      <th>I particularly avoid food with high carbonhydrate(bread,rice,potatoes etc)</th>\n",
       "      <th>I take longer time than others to eat my meals</th>\n",
       "      <th>I avoid food and drink with sugar content</th>\n",
       "      <th>I like my stomach empty</th>\n",
       "      <th>I fast to avoid eating</th>\n",
       "    </tr>\n",
       "  </thead>\n",
       "  <tbody>\n",
       "    <tr>\n",
       "      <th>0</th>\n",
       "      <td>0</td>\n",
       "      <td>0</td>\n",
       "      <td>0</td>\n",
       "      <td>0</td>\n",
       "      <td>0</td>\n",
       "      <td>0</td>\n",
       "      <td>0</td>\n",
       "    </tr>\n",
       "    <tr>\n",
       "      <th>1</th>\n",
       "      <td>0</td>\n",
       "      <td>0</td>\n",
       "      <td>0</td>\n",
       "      <td>0</td>\n",
       "      <td>0</td>\n",
       "      <td>0</td>\n",
       "      <td>0</td>\n",
       "    </tr>\n",
       "    <tr>\n",
       "      <th>2</th>\n",
       "      <td>0</td>\n",
       "      <td>0</td>\n",
       "      <td>0</td>\n",
       "      <td>0</td>\n",
       "      <td>0</td>\n",
       "      <td>0</td>\n",
       "      <td>0</td>\n",
       "    </tr>\n",
       "    <tr>\n",
       "      <th>3</th>\n",
       "      <td>0</td>\n",
       "      <td>0</td>\n",
       "      <td>0</td>\n",
       "      <td>0</td>\n",
       "      <td>0</td>\n",
       "      <td>0</td>\n",
       "      <td>0</td>\n",
       "    </tr>\n",
       "    <tr>\n",
       "      <th>4</th>\n",
       "      <td>0</td>\n",
       "      <td>0</td>\n",
       "      <td>0</td>\n",
       "      <td>0</td>\n",
       "      <td>0</td>\n",
       "      <td>4</td>\n",
       "      <td>0</td>\n",
       "    </tr>\n",
       "    <tr>\n",
       "      <th>...</th>\n",
       "      <td>...</td>\n",
       "      <td>...</td>\n",
       "      <td>...</td>\n",
       "      <td>...</td>\n",
       "      <td>...</td>\n",
       "      <td>...</td>\n",
       "      <td>...</td>\n",
       "    </tr>\n",
       "    <tr>\n",
       "      <th>402</th>\n",
       "      <td>1</td>\n",
       "      <td>2</td>\n",
       "      <td>1</td>\n",
       "      <td>1</td>\n",
       "      <td>1</td>\n",
       "      <td>2</td>\n",
       "      <td>2</td>\n",
       "    </tr>\n",
       "    <tr>\n",
       "      <th>403</th>\n",
       "      <td>1</td>\n",
       "      <td>2</td>\n",
       "      <td>1</td>\n",
       "      <td>1</td>\n",
       "      <td>1</td>\n",
       "      <td>2</td>\n",
       "      <td>2</td>\n",
       "    </tr>\n",
       "    <tr>\n",
       "      <th>404</th>\n",
       "      <td>1</td>\n",
       "      <td>2</td>\n",
       "      <td>1</td>\n",
       "      <td>1</td>\n",
       "      <td>1</td>\n",
       "      <td>2</td>\n",
       "      <td>2</td>\n",
       "    </tr>\n",
       "    <tr>\n",
       "      <th>405</th>\n",
       "      <td>1</td>\n",
       "      <td>2</td>\n",
       "      <td>1</td>\n",
       "      <td>1</td>\n",
       "      <td>1</td>\n",
       "      <td>2</td>\n",
       "      <td>2</td>\n",
       "    </tr>\n",
       "    <tr>\n",
       "      <th>406</th>\n",
       "      <td>1</td>\n",
       "      <td>2</td>\n",
       "      <td>1</td>\n",
       "      <td>1</td>\n",
       "      <td>1</td>\n",
       "      <td>2</td>\n",
       "      <td>2</td>\n",
       "    </tr>\n",
       "  </tbody>\n",
       "</table>\n",
       "<p>407 rows × 7 columns</p>\n",
       "</div>"
      ],
      "text/plain": [
       "     I avoid eating when am hungry  I cut my food into small pieces  \\\n",
       "0                                0                                0   \n",
       "1                                0                                0   \n",
       "2                                0                                0   \n",
       "3                                0                                0   \n",
       "4                                0                                0   \n",
       "..                             ...                              ...   \n",
       "402                              1                                2   \n",
       "403                              1                                2   \n",
       "404                              1                                2   \n",
       "405                              1                                2   \n",
       "406                              1                                2   \n",
       "\n",
       "     I particularly avoid food with high carbonhydrate(bread,rice,potatoes etc)  \\\n",
       "0                                                    0                            \n",
       "1                                                    0                            \n",
       "2                                                    0                            \n",
       "3                                                    0                            \n",
       "4                                                    0                            \n",
       "..                                                 ...                            \n",
       "402                                                  1                            \n",
       "403                                                  1                            \n",
       "404                                                  1                            \n",
       "405                                                  1                            \n",
       "406                                                  1                            \n",
       "\n",
       "     I take longer time than others to eat my meals  \\\n",
       "0                                                 0   \n",
       "1                                                 0   \n",
       "2                                                 0   \n",
       "3                                                 0   \n",
       "4                                                 0   \n",
       "..                                              ...   \n",
       "402                                               1   \n",
       "403                                               1   \n",
       "404                                               1   \n",
       "405                                               1   \n",
       "406                                               1   \n",
       "\n",
       "     I avoid food and drink with sugar content  I like my stomach empty   \\\n",
       "0                                            0                         0   \n",
       "1                                            0                         0   \n",
       "2                                            0                         0   \n",
       "3                                            0                         0   \n",
       "4                                            0                         4   \n",
       "..                                         ...                       ...   \n",
       "402                                          1                         2   \n",
       "403                                          1                         2   \n",
       "404                                          1                         2   \n",
       "405                                          1                         2   \n",
       "406                                          1                         2   \n",
       "\n",
       "     I fast to avoid eating  \n",
       "0                         0  \n",
       "1                         0  \n",
       "2                         0  \n",
       "3                         0  \n",
       "4                         0  \n",
       "..                      ...  \n",
       "402                       2  \n",
       "403                       2  \n",
       "404                       2  \n",
       "405                       2  \n",
       "406                       2  \n",
       "\n",
       "[407 rows x 7 columns]"
      ]
     },
     "execution_count": 35,
     "metadata": {},
     "output_type": "execute_result"
    }
   ],
   "source": [
    "Objects"
   ]
  },
  {
   "cell_type": "code",
   "execution_count": 36,
   "id": "51cdf55b",
   "metadata": {},
   "outputs": [
    {
     "data": {
      "text/html": [
       "<div>\n",
       "<style scoped>\n",
       "    .dataframe tbody tr th:only-of-type {\n",
       "        vertical-align: middle;\n",
       "    }\n",
       "\n",
       "    .dataframe tbody tr th {\n",
       "        vertical-align: top;\n",
       "    }\n",
       "\n",
       "    .dataframe thead th {\n",
       "        text-align: right;\n",
       "    }\n",
       "</style>\n",
       "<table border=\"1\" class=\"dataframe\">\n",
       "  <thead>\n",
       "    <tr style=\"text-align: right;\">\n",
       "      <th></th>\n",
       "      <th>Class</th>\n",
       "      <th>Age</th>\n",
       "      <th>I avoid eating when am hungry</th>\n",
       "      <th>I cut my food into small pieces</th>\n",
       "      <th>I particularly avoid food with high carbonhydrate(bread,rice,potatoes etc)</th>\n",
       "      <th>I take longer time than others to eat my meals</th>\n",
       "      <th>I avoid food and drink with sugar content</th>\n",
       "      <th>I like my stomach empty</th>\n",
       "      <th>I fast to avoid eating</th>\n",
       "    </tr>\n",
       "  </thead>\n",
       "  <tbody>\n",
       "    <tr>\n",
       "      <th>0</th>\n",
       "      <td>1</td>\n",
       "      <td>14</td>\n",
       "      <td>0</td>\n",
       "      <td>0</td>\n",
       "      <td>0</td>\n",
       "      <td>0</td>\n",
       "      <td>0</td>\n",
       "      <td>0</td>\n",
       "      <td>0</td>\n",
       "    </tr>\n",
       "    <tr>\n",
       "      <th>1</th>\n",
       "      <td>1</td>\n",
       "      <td>14</td>\n",
       "      <td>0</td>\n",
       "      <td>0</td>\n",
       "      <td>0</td>\n",
       "      <td>0</td>\n",
       "      <td>0</td>\n",
       "      <td>0</td>\n",
       "      <td>0</td>\n",
       "    </tr>\n",
       "    <tr>\n",
       "      <th>2</th>\n",
       "      <td>1</td>\n",
       "      <td>14</td>\n",
       "      <td>0</td>\n",
       "      <td>0</td>\n",
       "      <td>0</td>\n",
       "      <td>0</td>\n",
       "      <td>0</td>\n",
       "      <td>0</td>\n",
       "      <td>0</td>\n",
       "    </tr>\n",
       "    <tr>\n",
       "      <th>3</th>\n",
       "      <td>1</td>\n",
       "      <td>14</td>\n",
       "      <td>0</td>\n",
       "      <td>0</td>\n",
       "      <td>0</td>\n",
       "      <td>0</td>\n",
       "      <td>0</td>\n",
       "      <td>0</td>\n",
       "      <td>0</td>\n",
       "    </tr>\n",
       "    <tr>\n",
       "      <th>4</th>\n",
       "      <td>1</td>\n",
       "      <td>14</td>\n",
       "      <td>0</td>\n",
       "      <td>0</td>\n",
       "      <td>0</td>\n",
       "      <td>0</td>\n",
       "      <td>0</td>\n",
       "      <td>4</td>\n",
       "      <td>0</td>\n",
       "    </tr>\n",
       "    <tr>\n",
       "      <th>...</th>\n",
       "      <td>...</td>\n",
       "      <td>...</td>\n",
       "      <td>...</td>\n",
       "      <td>...</td>\n",
       "      <td>...</td>\n",
       "      <td>...</td>\n",
       "      <td>...</td>\n",
       "      <td>...</td>\n",
       "      <td>...</td>\n",
       "    </tr>\n",
       "    <tr>\n",
       "      <th>402</th>\n",
       "      <td>0</td>\n",
       "      <td>23</td>\n",
       "      <td>1</td>\n",
       "      <td>2</td>\n",
       "      <td>1</td>\n",
       "      <td>1</td>\n",
       "      <td>1</td>\n",
       "      <td>2</td>\n",
       "      <td>2</td>\n",
       "    </tr>\n",
       "    <tr>\n",
       "      <th>403</th>\n",
       "      <td>0</td>\n",
       "      <td>23</td>\n",
       "      <td>1</td>\n",
       "      <td>2</td>\n",
       "      <td>1</td>\n",
       "      <td>1</td>\n",
       "      <td>1</td>\n",
       "      <td>2</td>\n",
       "      <td>2</td>\n",
       "    </tr>\n",
       "    <tr>\n",
       "      <th>404</th>\n",
       "      <td>0</td>\n",
       "      <td>23</td>\n",
       "      <td>1</td>\n",
       "      <td>2</td>\n",
       "      <td>1</td>\n",
       "      <td>1</td>\n",
       "      <td>1</td>\n",
       "      <td>2</td>\n",
       "      <td>2</td>\n",
       "    </tr>\n",
       "    <tr>\n",
       "      <th>405</th>\n",
       "      <td>0</td>\n",
       "      <td>23</td>\n",
       "      <td>1</td>\n",
       "      <td>2</td>\n",
       "      <td>1</td>\n",
       "      <td>1</td>\n",
       "      <td>1</td>\n",
       "      <td>2</td>\n",
       "      <td>2</td>\n",
       "    </tr>\n",
       "    <tr>\n",
       "      <th>406</th>\n",
       "      <td>0</td>\n",
       "      <td>23</td>\n",
       "      <td>1</td>\n",
       "      <td>2</td>\n",
       "      <td>1</td>\n",
       "      <td>1</td>\n",
       "      <td>1</td>\n",
       "      <td>2</td>\n",
       "      <td>2</td>\n",
       "    </tr>\n",
       "  </tbody>\n",
       "</table>\n",
       "<p>407 rows × 9 columns</p>\n",
       "</div>"
      ],
      "text/plain": [
       "     Class  Age  I avoid eating when am hungry  \\\n",
       "0        1   14                              0   \n",
       "1        1   14                              0   \n",
       "2        1   14                              0   \n",
       "3        1   14                              0   \n",
       "4        1   14                              0   \n",
       "..     ...  ...                            ...   \n",
       "402      0   23                              1   \n",
       "403      0   23                              1   \n",
       "404      0   23                              1   \n",
       "405      0   23                              1   \n",
       "406      0   23                              1   \n",
       "\n",
       "     I cut my food into small pieces  \\\n",
       "0                                  0   \n",
       "1                                  0   \n",
       "2                                  0   \n",
       "3                                  0   \n",
       "4                                  0   \n",
       "..                               ...   \n",
       "402                                2   \n",
       "403                                2   \n",
       "404                                2   \n",
       "405                                2   \n",
       "406                                2   \n",
       "\n",
       "     I particularly avoid food with high carbonhydrate(bread,rice,potatoes etc)  \\\n",
       "0                                                    0                            \n",
       "1                                                    0                            \n",
       "2                                                    0                            \n",
       "3                                                    0                            \n",
       "4                                                    0                            \n",
       "..                                                 ...                            \n",
       "402                                                  1                            \n",
       "403                                                  1                            \n",
       "404                                                  1                            \n",
       "405                                                  1                            \n",
       "406                                                  1                            \n",
       "\n",
       "     I take longer time than others to eat my meals  \\\n",
       "0                                                 0   \n",
       "1                                                 0   \n",
       "2                                                 0   \n",
       "3                                                 0   \n",
       "4                                                 0   \n",
       "..                                              ...   \n",
       "402                                               1   \n",
       "403                                               1   \n",
       "404                                               1   \n",
       "405                                               1   \n",
       "406                                               1   \n",
       "\n",
       "     I avoid food and drink with sugar content  I like my stomach empty   \\\n",
       "0                                            0                         0   \n",
       "1                                            0                         0   \n",
       "2                                            0                         0   \n",
       "3                                            0                         0   \n",
       "4                                            0                         4   \n",
       "..                                         ...                       ...   \n",
       "402                                          1                         2   \n",
       "403                                          1                         2   \n",
       "404                                          1                         2   \n",
       "405                                          1                         2   \n",
       "406                                          1                         2   \n",
       "\n",
       "     I fast to avoid eating  \n",
       "0                         0  \n",
       "1                         0  \n",
       "2                         0  \n",
       "3                         0  \n",
       "4                         0  \n",
       "..                      ...  \n",
       "402                       2  \n",
       "403                       2  \n",
       "404                       2  \n",
       "405                       2  \n",
       "406                       2  \n",
       "\n",
       "[407 rows x 9 columns]"
      ]
     },
     "execution_count": 36,
     "metadata": {},
     "output_type": "execute_result"
    }
   ],
   "source": [
    "df1=numeric.merge(Objects,right_index=True,left_index=True)\n",
    "df1"
   ]
  },
  {
   "cell_type": "markdown",
   "id": "1c3f3577",
   "metadata": {},
   "source": [
    "## haven gotten our dataframe in numerical format acceptable by any algorithms for predictions, lets get our features and label"
   ]
  },
  {
   "cell_type": "code",
   "execution_count": 37,
   "id": "fa680abd",
   "metadata": {},
   "outputs": [
    {
     "data": {
      "text/plain": [
       "array([[14,  0,  0, ...,  0,  0,  0],\n",
       "       [14,  0,  0, ...,  0,  0,  0],\n",
       "       [14,  0,  0, ...,  0,  0,  0],\n",
       "       ...,\n",
       "       [23,  1,  2, ...,  1,  2,  2],\n",
       "       [23,  1,  2, ...,  1,  2,  2],\n",
       "       [23,  1,  2, ...,  1,  2,  2]], dtype=int64)"
      ]
     },
     "execution_count": 37,
     "metadata": {},
     "output_type": "execute_result"
    }
   ],
   "source": [
    "X=df1.iloc[:,1:].values\n",
    "X"
   ]
  },
  {
   "cell_type": "code",
   "execution_count": 38,
   "id": "16205029",
   "metadata": {},
   "outputs": [
    {
     "data": {
      "text/plain": [
       "0      1\n",
       "1      1\n",
       "2      1\n",
       "3      1\n",
       "4      1\n",
       "      ..\n",
       "402    0\n",
       "403    0\n",
       "404    0\n",
       "405    0\n",
       "406    0\n",
       "Name: Class, Length: 407, dtype: int64"
      ]
     },
     "execution_count": 38,
     "metadata": {},
     "output_type": "execute_result"
    }
   ],
   "source": [
    "y=data['Class']\n",
    "y"
   ]
  },
  {
   "cell_type": "code",
   "execution_count": 39,
   "id": "4b9a3131",
   "metadata": {},
   "outputs": [],
   "source": [
    "## let's split the dataframe for training and testing\n",
    "\n",
    "from sklearn.model_selection import train_test_split\n",
    "X_train,X_test,y_train,y_test=train_test_split(X,y,test_size=0.2,random_state=42)"
   ]
  },
  {
   "cell_type": "code",
   "execution_count": 40,
   "id": "54837d67",
   "metadata": {},
   "outputs": [
    {
     "data": {
      "text/plain": [
       "331    0\n",
       "3      1\n",
       "18     1\n",
       "131    1\n",
       "118    1\n",
       "      ..\n",
       "71     1\n",
       "106    1\n",
       "270    0\n",
       "348    0\n",
       "102    1\n",
       "Name: Class, Length: 325, dtype: int64"
      ]
     },
     "execution_count": 40,
     "metadata": {},
     "output_type": "execute_result"
    }
   ],
   "source": [
    "# we can print them out to check what they look like \n",
    "y_train"
   ]
  },
  {
   "cell_type": "markdown",
   "id": "61db8206",
   "metadata": {},
   "source": [
    "## Getting our algorithms together "
   ]
  },
  {
   "cell_type": "markdown",
   "id": "b9b52005",
   "metadata": {},
   "source": [
    " for comparison purpose , i am going to use 3 different models for this project and we are going to adopt one that is best for this project.\n",
    " \n",
    " 1. decision tree\n",
    " 2. support vector machine(SVM)\n",
    " 3. k-nearest neighbour (KNN)"
   ]
  },
  {
   "cell_type": "code",
   "execution_count": 41,
   "id": "f14523e8",
   "metadata": {},
   "outputs": [],
   "source": [
    "## lt's import the models we want to use in our data, train the model to make predictions\n",
    "\n",
    "from sklearn.neighbors import KNeighborsClassifier\n",
    "from sklearn.svm import SVC\n",
    "from sklearn.tree import DecisionTreeClassifier"
   ]
  },
  {
   "cell_type": "code",
   "execution_count": 42,
   "id": "3083705c",
   "metadata": {},
   "outputs": [],
   "source": [
    "#instanciation\n",
    "SVC_model=SVC()\n",
    "#KNN-model requires you to specify n_neighbors,\n",
    "# the numbers of points the classifier will look at to determine what class a new point blongs to\n",
    "#KN_model=KNeighborsclassifier(n_neigbors=5)by default,n-neighbors is 5, so we leave at that first\n",
    "KNN_model=KNeighborsClassifier()\n",
    "DTC_model=DecisionTreeClassifier()"
   ]
  },
  {
   "cell_type": "code",
   "execution_count": 43,
   "id": "34ac16a9",
   "metadata": {},
   "outputs": [
    {
     "data": {
      "text/plain": [
       "DecisionTreeClassifier()"
      ]
     },
     "execution_count": 43,
     "metadata": {},
     "output_type": "execute_result"
    }
   ],
   "source": [
    "# now let's fit the classifiers:\n",
    "# Now train the model using the fit method. in the fit method, pass training datasets in it .\n",
    "# x_train and y_train are training datasets\n",
    "\n",
    "SVC_model.fit(X_train,y_train)\n",
    "KNN_model.fit(X_train,y_train)\n",
    "DTC_model.fit(X_train,y_train)"
   ]
  },
  {
   "cell_type": "markdown",
   "id": "0b43b910",
   "metadata": {},
   "source": [
    "## the call has trained the model,so now we can predict and store the prediction in a  variable:"
   ]
  },
  {
   "cell_type": "code",
   "execution_count": 44,
   "id": "ccd07171",
   "metadata": {},
   "outputs": [],
   "source": [
    "SVC_pred=SVC_model.predict(X_test)\n",
    "KNN_pred=KNN_model.predict(X_test)\n",
    "DTC_pred=DTC_model.predict(X_test)"
   ]
  },
  {
   "cell_type": "code",
   "execution_count": 45,
   "id": "74b06e36",
   "metadata": {},
   "outputs": [
    {
     "name": "stdout",
     "output_type": "stream",
     "text": [
      "SVC_pred\n",
      "[1 1 0 0 0 1 1 0 0 0 0 1 0 0 1 0 0 0 0 1 1 0 0 0 0 0 0 1 0 0 1 1 1 1 0 0 0\n",
      " 0 1 0 0 0 1 1 0 0 1 0 0 1 1 1 1 0 0 0 1 1 0 0 0 1 1 1 0 1 0 0 1 0 0 0 1 0\n",
      " 1 1 0 1 0 0 0 0]\n",
      "=================================\n",
      "\n",
      "KNN prediction\n",
      "[1 0 0 1 1 1 1 0 0 0 0 1 0 0 1 1 1 0 1 0 1 0 0 1 0 0 1 0 1 1 1 1 1 1 0 0 1\n",
      " 0 1 0 0 0 1 1 1 0 1 0 1 1 1 1 1 1 0 0 1 1 1 0 1 1 0 1 0 0 0 1 0 0 1 0 1 1\n",
      " 1 0 1 1 0 0 0 0]\n",
      "=================================\n",
      "\n",
      "DTC prediction\n",
      "[1 0 0 0 1 1 1 0 0 0 0 1 0 0 1 1 1 0 1 0 1 0 0 1 0 0 1 0 1 1 1 1 1 1 0 0 1\n",
      " 0 1 0 0 0 1 1 1 0 1 0 1 1 1 1 1 1 0 0 1 1 1 0 1 1 0 1 0 0 0 1 0 0 0 0 1 1\n",
      " 1 1 1 1 0 0 0 0]\n"
     ]
    }
   ],
   "source": [
    "print('SVC_pred')\n",
    "print(SVC_pred)\n",
    "print('=================================')\n",
    "print()\n",
    "\n",
    "print('KNN prediction')\n",
    "print(KNN_pred)\n",
    "print('=================================')\n",
    "print()\n",
    "\n",
    "print('DTC prediction')\n",
    "print(DTC_pred)\n"
   ]
  },
  {
   "cell_type": "code",
   "execution_count": 46,
   "id": "f830da0d",
   "metadata": {},
   "outputs": [
    {
     "name": "stdout",
     "output_type": "stream",
     "text": [
      "SVC Accuracy score:0.74\n",
      "KNN Accuracy score:0.94\n",
      "DTC Accuracy score:0.95\n"
     ]
    }
   ],
   "source": [
    "# accuracy score is the simplest way to evaluate the classification performance\n",
    "\n",
    "from sklearn.metrics import accuracy_score\n",
    "print(f'SVC Accuracy score:{round(accuracy_score(SVC_pred,y_test),2)}')\n",
    "print(f'KNN Accuracy score:{round(accuracy_score(KNN_pred,y_test),2)}')\n",
    "print(f'DTC Accuracy score:{round(accuracy_score(DTC_pred,y_test),2)}')"
   ]
  },
  {
   "cell_type": "markdown",
   "id": "44634ec5",
   "metadata": {},
   "source": [
    "so the KNN and DTC is best to use for this project "
   ]
  },
  {
   "cell_type": "markdown",
   "id": "e98201b3",
   "metadata": {},
   "source": [
    "## but confusion matric and classification report give more details about performace so let's call them to give us details "
   ]
  },
  {
   "cell_type": "code",
   "execution_count": 47,
   "id": "ffe7dab9",
   "metadata": {},
   "outputs": [],
   "source": [
    "from sklearn.metrics import confusion_matrix\n",
    "from sklearn.metrics import classification_report "
   ]
  },
  {
   "cell_type": "code",
   "execution_count": 48,
   "id": "ff43d58e",
   "metadata": {},
   "outputs": [
    {
     "name": "stdout",
     "output_type": "stream",
     "text": [
      "[[33 17]\n",
      " [ 4 28]]\n",
      "\n",
      "[[35  3]\n",
      " [ 2 42]]\n",
      "\n",
      "[[36  3]\n",
      " [ 1 42]]\n",
      "\n"
     ]
    }
   ],
   "source": [
    "print(confusion_matrix(SVC_pred,y_test))\n",
    "print()\n",
    "print(confusion_matrix(KNN_pred,y_test))\n",
    "print()\n",
    "print(confusion_matrix(DTC_pred,y_test))\n",
    "print()\n"
   ]
  },
  {
   "cell_type": "code",
   "execution_count": 49,
   "id": "55a69227",
   "metadata": {},
   "outputs": [
    {
     "name": "stdout",
     "output_type": "stream",
     "text": [
      "classification report of support vector classifier\n",
      "              precision    recall  f1-score   support\n",
      "\n",
      "           0       0.89      0.66      0.76        50\n",
      "           1       0.62      0.88      0.73        32\n",
      "\n",
      "    accuracy                           0.74        82\n",
      "   macro avg       0.76      0.77      0.74        82\n",
      "weighted avg       0.79      0.74      0.75        82\n",
      "\n",
      "\n",
      "classification report of K-Nearest Neighbors classifier\n",
      "              precision    recall  f1-score   support\n",
      "\n",
      "           0       0.95      0.92      0.93        38\n",
      "           1       0.93      0.95      0.94        44\n",
      "\n",
      "    accuracy                           0.94        82\n",
      "   macro avg       0.94      0.94      0.94        82\n",
      "weighted avg       0.94      0.94      0.94        82\n",
      "\n",
      "\n",
      "classification report of Decision Tree classifier\n",
      "              precision    recall  f1-score   support\n",
      "\n",
      "           0       0.97      0.92      0.95        39\n",
      "           1       0.93      0.98      0.95        43\n",
      "\n",
      "    accuracy                           0.95        82\n",
      "   macro avg       0.95      0.95      0.95        82\n",
      "weighted avg       0.95      0.95      0.95        82\n",
      "\n",
      "\n"
     ]
    }
   ],
   "source": [
    "print(f'classification report of support vector classifier')\n",
    "print(classification_report(SVC_pred,y_test))\n",
    "print()\n",
    "\n",
    "print(f'classification report of K-Nearest Neighbors classifier')\n",
    "print(classification_report(KNN_pred,y_test))\n",
    "print()\n",
    "\n",
    "print(f'classification report of Decision Tree classifier')\n",
    "print(classification_report(DTC_pred,y_test))\n",
    "print()"
   ]
  },
  {
   "cell_type": "code",
   "execution_count": 50,
   "id": "4760f53e",
   "metadata": {},
   "outputs": [
    {
     "data": {
      "text/html": [
       "<div>\n",
       "<style scoped>\n",
       "    .dataframe tbody tr th:only-of-type {\n",
       "        vertical-align: middle;\n",
       "    }\n",
       "\n",
       "    .dataframe tbody tr th {\n",
       "        vertical-align: top;\n",
       "    }\n",
       "\n",
       "    .dataframe thead th {\n",
       "        text-align: right;\n",
       "    }\n",
       "</style>\n",
       "<table border=\"1\" class=\"dataframe\">\n",
       "  <thead>\n",
       "    <tr style=\"text-align: right;\">\n",
       "      <th></th>\n",
       "      <th>Class</th>\n",
       "      <th>Age</th>\n",
       "      <th>I avoid eating when am hungry</th>\n",
       "      <th>I cut my food into small pieces</th>\n",
       "      <th>I particularly avoid food with high carbonhydrate(bread,rice,potatoes etc)</th>\n",
       "      <th>I take longer time than others to eat my meals</th>\n",
       "      <th>I avoid food and drink with sugar content</th>\n",
       "      <th>I like my stomach empty</th>\n",
       "      <th>I fast to avoid eating</th>\n",
       "    </tr>\n",
       "  </thead>\n",
       "  <tbody>\n",
       "    <tr>\n",
       "      <th>0</th>\n",
       "      <td>1</td>\n",
       "      <td>14</td>\n",
       "      <td>0</td>\n",
       "      <td>0</td>\n",
       "      <td>0</td>\n",
       "      <td>0</td>\n",
       "      <td>0</td>\n",
       "      <td>0</td>\n",
       "      <td>0</td>\n",
       "    </tr>\n",
       "    <tr>\n",
       "      <th>1</th>\n",
       "      <td>1</td>\n",
       "      <td>14</td>\n",
       "      <td>0</td>\n",
       "      <td>0</td>\n",
       "      <td>0</td>\n",
       "      <td>0</td>\n",
       "      <td>0</td>\n",
       "      <td>0</td>\n",
       "      <td>0</td>\n",
       "    </tr>\n",
       "    <tr>\n",
       "      <th>2</th>\n",
       "      <td>1</td>\n",
       "      <td>14</td>\n",
       "      <td>0</td>\n",
       "      <td>0</td>\n",
       "      <td>0</td>\n",
       "      <td>0</td>\n",
       "      <td>0</td>\n",
       "      <td>0</td>\n",
       "      <td>0</td>\n",
       "    </tr>\n",
       "    <tr>\n",
       "      <th>3</th>\n",
       "      <td>1</td>\n",
       "      <td>14</td>\n",
       "      <td>0</td>\n",
       "      <td>0</td>\n",
       "      <td>0</td>\n",
       "      <td>0</td>\n",
       "      <td>0</td>\n",
       "      <td>0</td>\n",
       "      <td>0</td>\n",
       "    </tr>\n",
       "    <tr>\n",
       "      <th>4</th>\n",
       "      <td>1</td>\n",
       "      <td>14</td>\n",
       "      <td>0</td>\n",
       "      <td>0</td>\n",
       "      <td>0</td>\n",
       "      <td>0</td>\n",
       "      <td>0</td>\n",
       "      <td>4</td>\n",
       "      <td>0</td>\n",
       "    </tr>\n",
       "    <tr>\n",
       "      <th>...</th>\n",
       "      <td>...</td>\n",
       "      <td>...</td>\n",
       "      <td>...</td>\n",
       "      <td>...</td>\n",
       "      <td>...</td>\n",
       "      <td>...</td>\n",
       "      <td>...</td>\n",
       "      <td>...</td>\n",
       "      <td>...</td>\n",
       "    </tr>\n",
       "    <tr>\n",
       "      <th>95</th>\n",
       "      <td>1</td>\n",
       "      <td>18</td>\n",
       "      <td>5</td>\n",
       "      <td>4</td>\n",
       "      <td>4</td>\n",
       "      <td>3</td>\n",
       "      <td>3</td>\n",
       "      <td>5</td>\n",
       "      <td>6</td>\n",
       "    </tr>\n",
       "    <tr>\n",
       "      <th>96</th>\n",
       "      <td>1</td>\n",
       "      <td>18</td>\n",
       "      <td>5</td>\n",
       "      <td>4</td>\n",
       "      <td>4</td>\n",
       "      <td>3</td>\n",
       "      <td>3</td>\n",
       "      <td>5</td>\n",
       "      <td>6</td>\n",
       "    </tr>\n",
       "    <tr>\n",
       "      <th>97</th>\n",
       "      <td>1</td>\n",
       "      <td>18</td>\n",
       "      <td>5</td>\n",
       "      <td>4</td>\n",
       "      <td>4</td>\n",
       "      <td>3</td>\n",
       "      <td>3</td>\n",
       "      <td>5</td>\n",
       "      <td>6</td>\n",
       "    </tr>\n",
       "    <tr>\n",
       "      <th>98</th>\n",
       "      <td>1</td>\n",
       "      <td>18</td>\n",
       "      <td>5</td>\n",
       "      <td>4</td>\n",
       "      <td>4</td>\n",
       "      <td>3</td>\n",
       "      <td>3</td>\n",
       "      <td>5</td>\n",
       "      <td>6</td>\n",
       "    </tr>\n",
       "    <tr>\n",
       "      <th>99</th>\n",
       "      <td>1</td>\n",
       "      <td>18</td>\n",
       "      <td>5</td>\n",
       "      <td>4</td>\n",
       "      <td>4</td>\n",
       "      <td>3</td>\n",
       "      <td>3</td>\n",
       "      <td>5</td>\n",
       "      <td>6</td>\n",
       "    </tr>\n",
       "  </tbody>\n",
       "</table>\n",
       "<p>100 rows × 9 columns</p>\n",
       "</div>"
      ],
      "text/plain": [
       "    Class  Age  I avoid eating when am hungry  \\\n",
       "0       1   14                              0   \n",
       "1       1   14                              0   \n",
       "2       1   14                              0   \n",
       "3       1   14                              0   \n",
       "4       1   14                              0   \n",
       "..    ...  ...                            ...   \n",
       "95      1   18                              5   \n",
       "96      1   18                              5   \n",
       "97      1   18                              5   \n",
       "98      1   18                              5   \n",
       "99      1   18                              5   \n",
       "\n",
       "    I cut my food into small pieces  \\\n",
       "0                                 0   \n",
       "1                                 0   \n",
       "2                                 0   \n",
       "3                                 0   \n",
       "4                                 0   \n",
       "..                              ...   \n",
       "95                                4   \n",
       "96                                4   \n",
       "97                                4   \n",
       "98                                4   \n",
       "99                                4   \n",
       "\n",
       "    I particularly avoid food with high carbonhydrate(bread,rice,potatoes etc)  \\\n",
       "0                                                   0                            \n",
       "1                                                   0                            \n",
       "2                                                   0                            \n",
       "3                                                   0                            \n",
       "4                                                   0                            \n",
       "..                                                ...                            \n",
       "95                                                  4                            \n",
       "96                                                  4                            \n",
       "97                                                  4                            \n",
       "98                                                  4                            \n",
       "99                                                  4                            \n",
       "\n",
       "    I take longer time than others to eat my meals  \\\n",
       "0                                                0   \n",
       "1                                                0   \n",
       "2                                                0   \n",
       "3                                                0   \n",
       "4                                                0   \n",
       "..                                             ...   \n",
       "95                                               3   \n",
       "96                                               3   \n",
       "97                                               3   \n",
       "98                                               3   \n",
       "99                                               3   \n",
       "\n",
       "    I avoid food and drink with sugar content  I like my stomach empty   \\\n",
       "0                                           0                         0   \n",
       "1                                           0                         0   \n",
       "2                                           0                         0   \n",
       "3                                           0                         0   \n",
       "4                                           0                         4   \n",
       "..                                        ...                       ...   \n",
       "95                                          3                         5   \n",
       "96                                          3                         5   \n",
       "97                                          3                         5   \n",
       "98                                          3                         5   \n",
       "99                                          3                         5   \n",
       "\n",
       "    I fast to avoid eating  \n",
       "0                        0  \n",
       "1                        0  \n",
       "2                        0  \n",
       "3                        0  \n",
       "4                        0  \n",
       "..                     ...  \n",
       "95                       6  \n",
       "96                       6  \n",
       "97                       6  \n",
       "98                       6  \n",
       "99                       6  \n",
       "\n",
       "[100 rows x 9 columns]"
      ]
     },
     "execution_count": 50,
     "metadata": {},
     "output_type": "execute_result"
    }
   ],
   "source": [
    "df1.head(100)"
   ]
  },
  {
   "cell_type": "code",
   "execution_count": 51,
   "id": "42198ca1",
   "metadata": {},
   "outputs": [
    {
     "name": "stdout",
     "output_type": "stream",
     "text": [
      "Enter the value for the Age>>>>>>>15\n",
      "Enter the value for the I avoid eating when am hungry>>>>>>>0\n",
      "Enter the value for the I cut my food into small pieces>>>>>>>1\n",
      "Enter the value for the I particularly avoid food with high carbonhydrate(bread,rice,potatoes etc)>>>>>>>2\n",
      "Enter the value for the I take longer time than others to eat my meals>>>>>>>5\n",
      "Enter the value for the I avoid food and drink with sugar content>>>>>>>5\n",
      "Enter the value for the I like my stomach empty >>>>>>>4\n",
      "Enter the value for the I fast to avoid eating>>>>>>>3\n",
      "\n",
      "support vector machine prediction[1]\n",
      "\n",
      "K-nearest neighbors prediction[0]\n",
      "\n",
      "Decision Tree prediction[0]\n"
     ]
    }
   ],
   "source": [
    "## okay let us do some manual input to see things for ourselves \n",
    "# pick any row of your choice \n",
    "# here i pick row 95 \n",
    "\n",
    "preds=[]\n",
    "for i in range(len(df1.iloc[:,1:].columns)):\n",
    "    val=float(input(f'Enter the value for the {df1.iloc[:,1:].columns[i]}>>>>>>>'))\n",
    "    preds.append(val)\n",
    "print()\n",
    "print(f'support vector machine prediction{SVC_model.predict([preds])}')\n",
    "print()\n",
    "print(f'K-nearest neighbors prediction{KNN_model.predict([preds])}')\n",
    "print()\n",
    "print(f'Decision Tree prediction{DTC_model.predict([preds])}')\n"
   ]
  }
 ],
 "metadata": {
  "kernelspec": {
   "display_name": "Python 3 (ipykernel)",
   "language": "python",
   "name": "python3"
  },
  "language_info": {
   "codemirror_mode": {
    "name": "ipython",
    "version": 3
   },
   "file_extension": ".py",
   "mimetype": "text/x-python",
   "name": "python",
   "nbconvert_exporter": "python",
   "pygments_lexer": "ipython3",
   "version": "3.10.2"
  }
 },
 "nbformat": 4,
 "nbformat_minor": 5
}
